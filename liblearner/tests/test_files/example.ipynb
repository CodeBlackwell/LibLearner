{
 "cells": [
  {
   "cell_type": "markdown",
   "metadata": {
    "tags": ["overview"]
   },
   "source": [
    "# Example Notebook\n",
    "\n",
    "This is a test notebook for the LibLearner Jupyter processor."
   ]
  },
  {
   "cell_type": "code",
   "execution_count": 1,
   "metadata": {},
   "source": [
    "# Import libraries\n",
    "import pandas as pd\n",
    "import numpy as np\n",
    "\n",
    "# Create sample data\n",
    "df = pd.DataFrame({\n",
    "    'A': np.random.randn(5),\n",
    "    'B': np.random.randn(5)\n",
    "})"
   ],
   "outputs": []
  },
  {
   "cell_type": "code",
   "execution_count": 2,
   "metadata": {},
   "source": [
    "# Display the data\n",
    "df.head()"
   ],
   "outputs": [
    {
     "data": {
      "text/plain": [
       "          A         B\n",
       "0  0.469112 -0.282863\n",
       "1 -1.509059 -1.135632\n",
       "2  1.212112  0.896832\n",
       "3 -0.173215  0.380396\n",
       "4  0.119209 -1.044236"
      ]
     },
     "execution_count": 2,
     "metadata": {},
     "output_type": "execute_result"
    }
   ]
  },
  {
   "cell_type": "code",
   "execution_count": 3,
   "metadata": {},
   "source": [
    "# Calculate statistics\n",
    "print('Mean values:')\n",
    "print(df.mean())\n",
    "print('\\nStandard deviations:')\n",
    "print(df.std())"
   ],
   "outputs": [
    {
     "name": "stdout",
     "output_type": "stream",
     "text": [
      "Mean values:\n",
      "A    0.023632\n",
      "B   -0.237101\n",
      "dtype: float64\n",
      "\n",
      "Standard deviations:\n",
      "A    1.052088\n",
      "B    0.841728\n",
      "dtype: float64"
     ]
    }
   ]
  }
 ],
 "metadata": {
  "kernelspec": {
   "display_name": "Python 3",
   "language": "python",
   "name": "python3"
  },
  "language_info": {
   "codemirror_mode": {
    "name": "ipython",
    "version": 3
   },
   "file_extension": ".py",
   "mimetype": "text/x-python",
   "name": "python",
   "nbconvert_exporter": "python",
   "pygments_lexer": "ipython3",
   "version": "3.8.0"
  }
 },
 "nbformat": 4,
 "nbformat_minor": 4
}
